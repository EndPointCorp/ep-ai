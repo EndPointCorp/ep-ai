{
 "cells": [
  {
   "cell_type": "markdown",
   "metadata": {},
   "source": [
    "## A/B Testing\n",
    "\n",
    "\"An A/B\" testing is an experiment with two groups to establish of two treatments, products, procedures, or the like is superior. Often one of the two treatments is the standard existing treatment, or no treatment.\" (P. Bruce, A. Bruce, P. Gedeck, Practical Statistics for Data Scientists).\n",
    "\n",
    "A/B testing is used for determining which treatment shows a significant impact and very useful in e-commerce and marketing.\n",
    "\n",
    "Let's consider we have a web site and we want to analyse the page visits of page A and page B. Page A is the existing (control) group, and page B would be the alternative treatment.\n",
    "\n",
    "In preparation of an A/B testing we would start with the following steps:\n",
    "\n",
    "* Define hypothesis (`null hypothesis` (H<sub>0</sub>) and `alternative hypothesis`)\n",
    "* Prepare control and treatment groups\n",
    "\n",
    "Then we'll apply the A/B test on the dataset.\n",
    "\n",
    "As an example case let's say we want to compare the conversion rates for visitors of page A and page B. So if we show the aggregated results of our collected data for both pages as below:\n",
    "\n",
    "**Page A**<br>\n",
    "Conversion: 231<br>\n",
    "Not Conversion: 11779<br>\n",
    "\n",
    "**Page B**<br>\n",
    "Conversion: 196<br>\n",
    "Not Conversion: 9823<br>\n",
    "\n"
   ]
  },
  {
   "cell_type": "code",
   "execution_count": null,
   "metadata": {},
   "outputs": [],
   "source": []
  }
 ],
 "metadata": {
  "language_info": {
   "name": "python"
  },
  "orig_nbformat": 4
 },
 "nbformat": 4,
 "nbformat_minor": 2
}
