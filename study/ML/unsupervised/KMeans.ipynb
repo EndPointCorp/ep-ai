{
 "cells": [
  {
   "cell_type": "code",
   "execution_count": 1,
   "metadata": {},
   "outputs": [],
   "source": [
    "class KMeans():\n",
    "    def __init__(self, _X, _y, _K):\n",
    "        self._K = _K\n",
    "        self._centroids = []\n",
    "        self._clusters = []\n",
    "\n",
    "    def initiate_centroids():\n",
    "        pass\n",
    "\n",
    "    def expect():\n",
    "        pass\n",
    "\n",
    "    def maximize():\n",
    "        pass\n",
    "\n",
    "    def fit():\n",
    "        pass\n",
    "\n",
    "    def predict():\n",
    "        pass\n",
    "\n"
   ]
  }
 ],
 "metadata": {
  "interpreter": {
   "hash": "b0fc493fde361d7be51044bcee58ba069bf2d89e960dc3594d2539c90e57618d"
  },
  "kernelspec": {
   "display_name": "Python 3.8.9 64-bit ('ds-venv': venv)",
   "language": "python",
   "name": "python3"
  },
  "language_info": {
   "codemirror_mode": {
    "name": "ipython",
    "version": 3
   },
   "file_extension": ".py",
   "mimetype": "text/x-python",
   "name": "python",
   "nbconvert_exporter": "python",
   "pygments_lexer": "ipython3",
   "version": "3.8.9"
  },
  "orig_nbformat": 4
 },
 "nbformat": 4,
 "nbformat_minor": 2
}
