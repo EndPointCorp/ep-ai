{
 "cells": [
  {
   "cell_type": "markdown",
   "metadata": {},
   "source": [
    "## Linear Regression\n",
    "\n",
    "Linear regression is used to predict the outcome based on a linear set of input. The simplest hypothesis function of is a univariate function as shown in the equation below:\n",
    "\n",
    "$$\n",
    "h_0  = θ_0 + θ_1x_1\n",
    "$$\n",
    "\n",
    "As you can guess this function represents a linear line in the coordinate system. Hypothesis function (h<sub>0</sub>) approximates the output given input.\n",
    "θ<sub>0</sub> is the `intercept`, also called `bias term`. θ<sub>1</sub> is the `gradient` or `slope`.\n",
    "\n",
    "A Linear Regression model can either represent a univariate or a multivariate problem. So if we generalize the equation of the hypothesis as summation:\n",
    "\n",
    "$$\n",
    "h_0 = \\sum{θ_ix_i}\n",
    "$$\n",
    "\n",
    "x<sub>0</sub> is always 1.\n",
    "\n",
    "We can also represent the hypothesis equation with vector notation:\n",
    "\n",
    "$$\n",
    "h_0 =\n",
    "\\begin{bmatrix}\n",
    "θ_0 & θ_1 & θ_2 \\dots θ_n\n",
    "\\end{bmatrix} \n",
    "x\n",
    "\\begin{bmatrix}\n",
    "           x_0 \\\\\n",
    "           x_1 \\\\\n",
    "           x_2 \\\\\n",
    "           \\vdots \\\\\n",
    "           x_n\n",
    "         \\end{bmatrix}\n",
    "$$\n",
    "\n",
    "which helps to separate the variable and parameter vectors."
   ]
  },
  {
   "cell_type": "markdown",
   "metadata": {},
   "source": [
    "### Linear Regression Model\n",
    "\n",
    "I am going to introduce Linear Regression model using `Gradient Descent` algorithm.\n",
    "\n",
    "Each iteration of a Gradient Descent algorithm calculates the following steps\n",
    "\n",
    "* Hypothesis h\n",
    "* The loss\n",
    "* Gradient descent update\n",
    "\n",
    "The gradient descent update iteration stops when it reaches the `convergence`.\n"
   ]
  },
  {
   "cell_type": "markdown",
   "metadata": {},
   "source": [
    "#### Hypothesis"
   ]
  },
  {
   "cell_type": "code",
   "execution_count": 19,
   "metadata": {},
   "outputs": [],
   "source": [
    "import numpy as np\n"
   ]
  },
  {
   "cell_type": "code",
   "execution_count": 20,
   "metadata": {},
   "outputs": [],
   "source": [
    "def hypothesis(X, theta):\n",
    "    \"\"\"Calculates the linear regression hypothesis\n",
    "\n",
    "    parameters\n",
    "    ----------\n",
    "    X : numpy.ndarray\n",
    "        Input data vector\n",
    "    theta : numpy.ndarray\n",
    "        Parameter vector\n",
    "    \"\"\"\n",
    "\n",
    "    return theta[0] + theta[1:] * X\n"
   ]
  },
  {
   "cell_type": "markdown",
   "metadata": {},
   "source": [
    "We start the initial hypothesis assumption with random parameters. Then we calculate the loss using `L2 Loss` function over the training dataset."
   ]
  },
  {
   "cell_type": "markdown",
   "metadata": {},
   "source": [
    "#### L2 Loss\n",
    "\n",
    "L2 Loss function calculates the least squared error (loss).\n",
    "\n",
    "$$\n",
    "L2 = J(θ) = \\frac{\\sum{(h_i - y_i)^2}}{m}\n",
    "$$"
   ]
  },
  {
   "cell_type": "code",
   "execution_count": 21,
   "metadata": {},
   "outputs": [],
   "source": [
    "def L2_loss(h, y):\n",
    "    \"\"\"h is the hypothesis vector having the predicted values.\n",
    "    \"\"\"\n",
    "    return np.mean([ (a - b) ** 2 for a, b in zip(h.flatten(), y)])\n"
   ]
  },
  {
   "cell_type": "markdown",
   "metadata": {},
   "source": [
    "#### Gradients of the Loss\n",
    "\n",
    "Gradients of the loss is the partial derivatives of θ. We calculate partial differential of loss for θ<sub>0</sub> and θ<sub>1</sub> separately. For multivariat functions our θ<sub>1</sub> is a generalized version for all available θ<sub>j</sub> since the partial derivatives are calculated similarly. You can simply calculate the partial derivatives of loss function yourself too.\n",
    "\n",
    "$$\n",
    "\\frac{∂}{∂θ_0}J(θ_0) = \\frac{\\sum{(h_0 - y_0)}}{m}\n",
    "$$\n",
    "\n",
    "$$\n",
    "\\frac{∂}{∂θ_0}J(θ_i) = \\frac{\\sum{(h_i - y_i)x_i}}{m}\n",
    "$$\n",
    "\n",
    "Since we know the hypothesis equation we can replace it in the derivatives as well.\n"
   ]
  },
  {
   "cell_type": "code",
   "execution_count": 22,
   "metadata": {},
   "outputs": [],
   "source": [
    "def partial_derivatives(h, X, y):\n",
    "    \"\"\"Calculate partial derivatives for given hypothesis, X and y\n",
    "    \"\"\"\n",
    "\n",
    "    return [np.mean((h - y)), np.mean((h - y) * X.flatten())]\n"
   ]
  },
  {
   "cell_type": "markdown",
   "metadata": {},
   "source": [
    "We calculate the partial derivatives for given theta, X and y:"
   ]
  },
  {
   "cell_type": "code",
   "execution_count": 23,
   "metadata": {},
   "outputs": [],
   "source": [
    "def calc_gradients(theta, X, y):\n",
    "    \"\"\"Calculate gradients given theta, X, y\n",
    "    \"\"\"\n",
    "\n",
    "    gradient = [0, 0]\n",
    "\n",
    "    h = hypothesis(X, theta)\n",
    "    gradient = partial_derivatives(h, X, y)\n",
    "    return np.array(gradient)\n"
   ]
  },
  {
   "cell_type": "markdown",
   "metadata": {},
   "source": [
    "#### Gradient update\n",
    "\n"
   ]
  },
  {
   "cell_type": "markdown",
   "metadata": {},
   "source": [
    "Now we are going to iterate through gradient descent batch update. We have a alpha and stop threshold that we take into account here. I'm going to tell about them later."
   ]
  },
  {
   "cell_type": "code",
   "execution_count": 25,
   "metadata": {},
   "outputs": [],
   "source": [
    "def gradient_update(X, y, theta, alpha, stop_threshold):\n",
    "    # initial loss\n",
    "    loss = L2_loss(hypothesis(X,theta), y)\n",
    "    old_loss = loss + stop_threshold\n",
    "\n",
    "    while( abs(old_loss - loss) > stop_threshold ):\n",
    "        # gradient descent update\n",
    "        gradients = calc_gradients(theta, X, y)\n",
    "        theta = theta - alpha * gradients            \n",
    "        old_loss = loss\n",
    "        loss = L2_loss(hypothesis(X,theta), y)\n",
    "        \n",
    "    print('Gradient Descent training stopped at loss %s, with coefficients: %s' % (loss, theta))\n",
    "    return theta\n"
   ]
  }
 ],
 "metadata": {
  "interpreter": {
   "hash": "b0fc493fde361d7be51044bcee58ba069bf2d89e960dc3594d2539c90e57618d"
  },
  "kernelspec": {
   "display_name": "Python 3.8.9 64-bit ('ds-venv': venv)",
   "language": "python",
   "name": "python3"
  },
  "language_info": {
   "codemirror_mode": {
    "name": "ipython",
    "version": 3
   },
   "file_extension": ".py",
   "mimetype": "text/x-python",
   "name": "python",
   "nbconvert_exporter": "python",
   "pygments_lexer": "ipython3",
   "version": "3.8.9"
  },
  "orig_nbformat": 4
 },
 "nbformat": 4,
 "nbformat_minor": 2
}
