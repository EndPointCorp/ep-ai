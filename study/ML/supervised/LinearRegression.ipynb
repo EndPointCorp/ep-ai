{
 "cells": [
  {
   "cell_type": "markdown",
   "metadata": {},
   "source": [
    "## Linear Regression\n",
    "\n",
    "Linear regression is used to predict the outcome based on a linear set of input. The simplest hypothesis function of is a univariate function as shown in the equation below:\n",
    "\n",
    "$$\n",
    "h_0  = θ_0 + θ_1x_1\n",
    "$$\n",
    "\n",
    "As you can guess this function represents a linear line in the coordinate system. Hypothesis function (h<sub>0</sub>) approximates the output given input.\n",
    "θ<sub>0</sub> is the `intercept`, also called `bias term`. θ<sub>1</sub> is the `gradient` or `slope`.\n",
    "\n",
    "A Linear Regression model can either represent a univariate or a multivariate problem. So if we generalize the equation of the hypothesis as summation:\n",
    "\n",
    "$$\n",
    "h_0 = \\sum{θ_ix_i}\n",
    "$$\n",
    "\n",
    "x<sub>0</sub> is always 1.\n",
    "\n",
    "We can also represent the hypothesis equation with vector notation:\n",
    "\n",
    "$$\n",
    "h_0 =\n",
    "\\begin{bmatrix}\n",
    "θ_0 & θ_1 & θ_2 \\dots θ_n\n",
    "\\end{bmatrix} \n",
    "x\n",
    "\\begin{bmatrix}\n",
    "           x_0 \\\\\n",
    "           x_1 \\\\\n",
    "           x_2 \\\\\n",
    "           \\vdots \\\\\n",
    "           x_n\n",
    "         \\end{bmatrix}\n",
    "$$\n",
    "\n",
    "which helps to separate the variable and parameter vectors."
   ]
  },
  {
   "cell_type": "markdown",
   "metadata": {},
   "source": [
    "### Linear Regression Model\n",
    "\n",
    "I am going to introduce Linear Regression model using `Gradient Descent` algorithm.\n",
    "\n",
    "Each iteration of a Gradient Descent algorithm calculates the following steps\n",
    "\n",
    "* Hypothesis h\n",
    "* The loss\n",
    "* Gradient descent update\n",
    "\n",
    "The gradient descent update iteration stops when it reaches the `convergence`.\n"
   ]
  },
  {
   "cell_type": "markdown",
   "metadata": {},
   "source": [
    "#### Hypothesis"
   ]
  },
  {
   "cell_type": "code",
   "execution_count": null,
   "metadata": {},
   "outputs": [],
   "source": [
    "def hypothesis(X, theta):\n",
    "    \"\"\"Calculates the linear regression hypothesis\n",
    "\n",
    "    parameters\n",
    "    ----------\n",
    "    X : numpy.ndarray\n",
    "        Input data vector\n",
    "    theta : numpy.ndarray\n",
    "        Parameter vector\n",
    "    \"\"\"\n",
    "\n",
    "    return theta[0] + theta[1:] * X\n"
   ]
  },
  {
   "cell_type": "markdown",
   "metadata": {},
   "source": [
    "We start the initial hypothesis assumption with random parameters. Then we calculate the loss using `L2 Loss` function over the training dataset."
   ]
  },
  {
   "cell_type": "markdown",
   "metadata": {},
   "source": []
  }
 ],
 "metadata": {
  "language_info": {
   "name": "python"
  },
  "orig_nbformat": 4
 },
 "nbformat": 4,
 "nbformat_minor": 2
}
