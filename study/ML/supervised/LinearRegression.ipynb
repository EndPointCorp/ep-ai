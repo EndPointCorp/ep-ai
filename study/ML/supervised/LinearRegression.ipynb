{
 "cells": [
  {
   "cell_type": "markdown",
   "metadata": {},
   "source": [
    "## Linear Regression\n",
    "\n",
    "Linear regression is used to predict the outcome based on a linear set of input. The simplest hypothesis function of is a univariate function as shown in the equation below:\n",
    "\n",
    "$$\n",
    "h_0  = θ_0 + θ_1x_1\n",
    "$$\n",
    "\n",
    "As you can guess this function represents a linear line in the coordinate system. Hypothesis function (h<sub>0</sub>) approximates the output given input.\n",
    "θ<sub>0</sub> is the `intercept`, also called `bias term`. θ<sub>1</sub> is the `gradient` or `slope`.\n",
    "\n",
    "A Linear Regression model can either represent a univariate or a multivariate problem. So if we generalize the equation of the hypothesis as summation:\n",
    "\n",
    "$$\n",
    "h_0 = \\sum{θ_ix_i}\n",
    "$$\n",
    "\n",
    "x<sub>0</sub> is always 1.\n",
    "\n",
    "We can also represent the hypothesis equation with vector notation:\n",
    "\n",
    "$$\n",
    "h_0 =\n",
    "\\begin{bmatrix}\n",
    "θ_0 & θ_1 & θ_2 \\dots θ_n\n",
    "\\end{bmatrix} \n",
    "x\n",
    "\\begin{bmatrix}\n",
    "           x_0 \\\\\n",
    "           x_1 \\\\\n",
    "           x_2 \\\\\n",
    "           \\vdots \\\\\n",
    "           x_n\n",
    "         \\end{bmatrix}\n",
    "$$\n",
    "\n",
    "which helps to separate the variable and parameter vectors."
   ]
  },
  {
   "cell_type": "markdown",
   "metadata": {},
   "source": [
    "### Linear Regression Model\n",
    "\n",
    "I am going to introduce Linear Regression model using `Gradient Descent` algorithm.\n",
    "\n",
    "Each iteration of a Gradient Descent algorithm calculates the following steps\n",
    "\n",
    "* Hypothesis h\n",
    "* The loss\n",
    "* Gradient descent update\n",
    "\n",
    "The gradient descent update iteration stops when it reaches the `convergence`.\n"
   ]
  },
  {
   "cell_type": "markdown",
   "metadata": {},
   "source": [
    "#### Hypothesis"
   ]
  },
  {
   "cell_type": "code",
   "execution_count": 3,
   "metadata": {},
   "outputs": [],
   "source": [
    "def hypothesis(X, theta):\n",
    "    \"\"\"Calculates the linear regression hypothesis\n",
    "\n",
    "    parameters\n",
    "    ----------\n",
    "    X : numpy.ndarray\n",
    "        Input data vector\n",
    "    theta : numpy.ndarray\n",
    "        Parameter vector\n",
    "    \"\"\"\n",
    "\n",
    "    return theta[0] + theta[1:] * X\n"
   ]
  },
  {
   "cell_type": "markdown",
   "metadata": {},
   "source": [
    "We start the initial hypothesis assumption with random parameters. Then we calculate the loss using `L2 Loss` function over the training dataset."
   ]
  },
  {
   "cell_type": "markdown",
   "metadata": {},
   "source": [
    "#### L2 Loss\n",
    "\n",
    "L2 Loss function calculates the least squared error (loss).\n",
    "\n",
    "$$\n",
    "L2 = J(θ) = \\frac{\\sum{(h_i - y_i)^2}}{m}\n",
    "$$"
   ]
  },
  {
   "cell_type": "code",
   "execution_count": 4,
   "metadata": {},
   "outputs": [],
   "source": [
    "def L2_loss(h, y):\n",
    "    \"\"\"h is the hypothesis vector having the predicted values.\n",
    "    \"\"\"\n",
    "    return (((h - y) ** 2).sum()) * (1 / (len(y)))\n"
   ]
  },
  {
   "cell_type": "markdown",
   "metadata": {},
   "source": [
    "#### Gradients of the Loss\n",
    "\n",
    "Gradients of the loss is the partial derivatives of θ. We calculate partial differential of loss for θ<sub>0</sub> and θ<sub>1</sub> separately. For multivariat functions our θ<sub>1</sub> is a generalized version for all available θ<sub>j</sub> since the partial derivatives are calculated similarly. You can simply calculate the partial derivatives of loss function yourself too.\n",
    "\n",
    "$$\n",
    "\\frac{∂}{∂θ_0}J(θ_0) = \\frac{\\sum{(h_0 - y_0)}}{m}\n",
    "$$\n",
    "\n",
    "$$\n",
    "\\frac{∂}{∂θ_0}J(θ_i) = \\frac{\\sum{(h_i - y_i)x_i}}{m}\n",
    "$$\n",
    "\n",
    "Since we know the hypothesis equation we can replace it in the derivatives as well.\n"
   ]
  },
  {
   "cell_type": "code",
   "execution_count": 6,
   "metadata": {},
   "outputs": [],
   "source": [
    "import numpy as np\n",
    "\n",
    "def gradient(X, theta, y):\n",
    "    \"\"\"Calculates gradients of loss function\n",
    "    \"\"\"    \n",
    "    gradient = [0, 0]\n",
    "    \n",
    "    h = hypothesis(X, theta)\n",
    "    residuals = [(a-b) for a,b in zip(h, y)]\n",
    "    gradient[0] = np.mean(residuals)\n",
    "    gradient[1] = X[:,0].dot(residuals)/len(y)\n",
    "\n",
    "    return np.array(gradient)\n"
   ]
  },
  {
   "cell_type": "code",
   "execution_count": null,
   "metadata": {},
   "outputs": [],
   "source": []
  }
 ],
 "metadata": {
  "interpreter": {
   "hash": "b0fc493fde361d7be51044bcee58ba069bf2d89e960dc3594d2539c90e57618d"
  },
  "kernelspec": {
   "display_name": "Python 3.8.9 64-bit ('ds-venv': venv)",
   "language": "python",
   "name": "python3"
  },
  "language_info": {
   "codemirror_mode": {
    "name": "ipython",
    "version": 3
   },
   "file_extension": ".py",
   "mimetype": "text/x-python",
   "name": "python",
   "nbconvert_exporter": "python",
   "pygments_lexer": "ipython3",
   "version": "3.8.9"
  },
  "orig_nbformat": 4
 },
 "nbformat": 4,
 "nbformat_minor": 2
}
