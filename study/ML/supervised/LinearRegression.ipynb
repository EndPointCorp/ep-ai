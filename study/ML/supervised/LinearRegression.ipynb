{
 "cells": [
  {
   "cell_type": "markdown",
   "metadata": {},
   "source": [
    "## Linear Regression\n",
    "\n",
    "I am going to introduce Linear Regression model using `Gradient Descent` algorithm.\n",
    "\n",
    "Each iteration of a Gradient Descent algorithm calculates the following steps\n",
    "\n",
    "* Hypothesis h\n",
    "* The loss\n",
    "* Gradient descent update\n",
    "\n",
    "The gradient descent update iteration stops when it reaches the `convergence`.\n"
   ]
  },
  {
   "cell_type": "code",
   "execution_count": null,
   "metadata": {},
   "outputs": [],
   "source": []
  }
 ],
 "metadata": {
  "language_info": {
   "name": "python"
  },
  "orig_nbformat": 4
 },
 "nbformat": 4,
 "nbformat_minor": 2
}
