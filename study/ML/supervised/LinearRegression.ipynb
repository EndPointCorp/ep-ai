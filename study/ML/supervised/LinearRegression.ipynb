{
 "cells": [
  {
   "cell_type": "markdown",
   "metadata": {},
   "source": [
    "## Linear Regression\n",
    "\n",
    "Linear regression is used to predict the outcome based on a linear set of input. The simplest hypothesis function of is a univariate function as shown in the equation below:\n",
    "\n",
    "$$\n",
    "h_0  = θ_0 + θ_1x_1\n",
    "$$\n",
    "\n",
    "As you can guess this function represents a linear line in the coordinate system. Hypothesis function (h<sub>0</sub>) approximates the output given input.\n",
    "θ<sub>0</sub> is the `intercept`, also called `bias term`. θ<sub>1</sub> is the `gradient` or `slope`.\n",
    "\n",
    "A Linear Regression model can either represent a univariate or a multivariate problem. So if we generalize the equation of the hypothesis as summation:\n",
    "\n",
    "$$\n",
    "h_0 = \\sum{θ_ix_i}\n",
    "$$\n",
    "\n",
    "x<sub>0</sub> is always 1.\n",
    "\n",
    "We can also represent the hypothesis equation with vector notation:\n",
    "\n",
    "$$\n",
    "h_0 =\n",
    "\\begin{bmatrix}\n",
    "θ_0 & θ_1 & θ_2 \\dots θ_n\n",
    "\\end{bmatrix} \n",
    "x\n",
    "\\begin{bmatrix}\n",
    "           x_0 \\\\\n",
    "           x_1 \\\\\n",
    "           x_2 \\\\\n",
    "           \\vdots \\\\\n",
    "           x_n\n",
    "         \\end{bmatrix}\n",
    "$$\n",
    "\n",
    "which helps to separate the variable and parameter vectors."
   ]
  },
  {
   "cell_type": "markdown",
   "metadata": {},
   "source": [
    "### Linear Regression Model\n",
    "\n",
    "I am going to introduce Linear Regression model using `Gradient Descent` algorithm.\n",
    "\n",
    "Each iteration of a Gradient Descent algorithm calculates the following steps\n",
    "\n",
    "* Hypothesis h\n",
    "* The loss\n",
    "* Gradient descent update\n",
    "\n",
    "The gradient descent update iteration stops when it reaches the `convergence`.\n"
   ]
  },
  {
   "cell_type": "markdown",
   "metadata": {},
   "source": [
    "#### Hypothesis"
   ]
  },
  {
   "cell_type": "code",
   "execution_count": 148,
   "metadata": {},
   "outputs": [],
   "source": [
    "import numpy as np\n"
   ]
  },
  {
   "cell_type": "code",
   "execution_count": 149,
   "metadata": {},
   "outputs": [],
   "source": [
    "def hypothesis(X, theta):\n",
    "    \"\"\"Calculates the linear regression hypothesis\n",
    "\n",
    "    parameters\n",
    "    ----------\n",
    "    X : numpy.ndarray\n",
    "        Input data vector\n",
    "    theta : numpy.ndarray\n",
    "        Parameter vector\n",
    "    \"\"\"\n",
    "\n",
    "    return theta[0] + theta[1:] * X\n"
   ]
  },
  {
   "cell_type": "markdown",
   "metadata": {},
   "source": [
    "We start the initial hypothesis assumption with random parameters. Then we calculate the loss using `L2 Loss` function over the training dataset."
   ]
  },
  {
   "cell_type": "markdown",
   "metadata": {},
   "source": [
    "#### L2 Loss\n",
    "\n",
    "L2 Loss function calculates the least squared error (loss).\n",
    "\n",
    "$$\n",
    "L2 = J(θ) = \\frac{\\sum{(h_i - y_i)^2}}{m}\n",
    "$$"
   ]
  },
  {
   "cell_type": "code",
   "execution_count": 150,
   "metadata": {},
   "outputs": [],
   "source": [
    "def L2_loss(h, y):\n",
    "    \"\"\"h is the hypothesis vector having the predicted values.\n",
    "    \"\"\"\n",
    "    return np.mean([ (a - b) ** 2 for a, b in zip(h.flatten(), y)])\n",
    "\n",
    "#loss_L2(h_lin(X_test,[150, 958]), y_test)\n"
   ]
  },
  {
   "cell_type": "markdown",
   "metadata": {},
   "source": [
    "#### Gradients of the Loss\n",
    "\n",
    "Gradients of the loss is the partial derivatives of θ. We calculate partial differential of loss for θ<sub>0</sub> and θ<sub>1</sub> separately. For multivariat functions our θ<sub>1</sub> is a generalized version for all available θ<sub>j</sub> since the partial derivatives are calculated similarly. You can simply calculate the partial derivatives of loss function yourself too.\n",
    "\n",
    "$$\n",
    "\\frac{∂}{∂θ_0}J(θ_0) = \\frac{\\sum{(h_0 - y_0)}}{m}\n",
    "$$\n",
    "\n",
    "$$\n",
    "\\frac{∂}{∂θ_0}J(θ_i) = \\frac{\\sum{(h_i - y_i)x_i}}{m}\n",
    "$$\n",
    "\n",
    "Since we know the hypothesis equation we can replace it in the derivatives as well.\n"
   ]
  },
  {
   "cell_type": "code",
   "execution_count": 151,
   "metadata": {},
   "outputs": [],
   "source": [
    "def partial_derivatives(h, X, y):\n",
    "    \"\"\"Calculate partial derivatives for given hypothesis, X and y\n",
    "    \"\"\"\n",
    "\n",
    "    return [np.mean((h.flatten() - y)), np.mean((h.flatten() - y) * X.flatten())]\n"
   ]
  },
  {
   "cell_type": "markdown",
   "metadata": {},
   "source": [
    "We calculate the partial derivatives for given theta, X and y:"
   ]
  },
  {
   "cell_type": "code",
   "execution_count": 152,
   "metadata": {},
   "outputs": [],
   "source": [
    "def calc_gradients(theta, X, y):\n",
    "    \"\"\"Calculate gradients given theta, X, y\n",
    "    \"\"\"\n",
    "\n",
    "    gradient = [0, 0]\n",
    "\n",
    "    h = hypothesis(X, theta)\n",
    "    gradient = partial_derivatives(h, X, y)\n",
    "    return np.array(gradient)\n",
    "\n",
    "    \n"
   ]
  },
  {
   "cell_type": "markdown",
   "metadata": {},
   "source": [
    "#### Gradient update\n",
    "\n"
   ]
  },
  {
   "cell_type": "markdown",
   "metadata": {},
   "source": [
    "Now we are going to iterate through gradient descent batch update. We have a alpha and stop threshold that we take into account here. I'm going to tell about them later."
   ]
  },
  {
   "cell_type": "code",
   "execution_count": 153,
   "metadata": {},
   "outputs": [],
   "source": [
    "def gradient_update(X, y, theta, alpha, stop_threshold):\n",
    "    # initial loss\n",
    "\n",
    "    loss = L2_loss(hypothesis(X,theta), y)\n",
    "    old_loss = loss + stop_threshold\n",
    "\n",
    "    while( abs(old_loss - loss) > stop_threshold ):\n",
    "        # gradient descent update\n",
    "        gradients = calc_gradients(theta, X, y)\n",
    "        theta = theta - alpha * gradients            \n",
    "        old_loss = loss\n",
    "        loss = L2_loss(hypothesis(X,theta), y)\n",
    "        \n",
    "    print('Gradient Descent training stopped at loss %s, with coefficients: %s' % (loss, theta))\n",
    "    return theta\n",
    "\n"
   ]
  },
  {
   "cell_type": "markdown",
   "metadata": {},
   "source": [
    "### Evaluation\n",
    "\n",
    "We created training algorithm of our Linear Regression model. We can now train and test against some regression datasets. Among `SK-Learn` toy datasets `diabetes` is a regression dataset we can use here."
   ]
  },
  {
   "cell_type": "code",
   "execution_count": 154,
   "metadata": {},
   "outputs": [],
   "source": [
    "import matplotlib.pyplot as plt\n",
    "from sklearn import datasets, linear_model\n",
    "from sklearn.metrics import mean_squared_error, r2_score\n",
    "from sklearn.model_selection import train_test_split\n",
    "\n",
    "# Load the diabetes dataset\n",
    "diabetes = datasets.load_diabetes()\n",
    "diabetes_X = diabetes.data[:, np.newaxis, 2]\n",
    "diabetes_y = diabetes.target\n",
    "\n",
    "X_train, X_test, y_train, y_test = train_test_split(diabetes_X, diabetes_y, test_size=0.1)\n"
   ]
  },
  {
   "cell_type": "markdown",
   "metadata": {},
   "source": [
    "#### My Linear Regression model evaluation"
   ]
  },
  {
   "cell_type": "code",
   "execution_count": 155,
   "metadata": {},
   "outputs": [
    {
     "name": "stdout",
     "output_type": "stream",
     "text": [
      "Gradient Descent training stopped at loss 3954.6853409792534, with coefficients: [153.65664016 820.38385773]\n",
      "Intercept (theta 0): \n",
      " 153.65664016384486\n",
      "Coefficients (theta 1): \n",
      " 820.3838577278237\n",
      "MSE:  3716.698595343569\n",
      "R2 Score 0.26421621718823773\n"
     ]
    },
    {
     "data": {
      "image/png": "[encoded data removed]",
      "text/plain": [
       "<Figure size 432x288 with 1 Axes>"
      ]
     },
     "metadata": {
      "needs_background": "light"
     },
     "output_type": "display_data"
    }
   ],
   "source": [
    "# initial theta\n",
    "theta = [100, 3]\n",
    "\n",
    "stop_threshold = 0.1\n",
    "\n",
    "# learning rate\n",
    "alpha = 0.5\n",
    "\n",
    "theta = gradient_update(X_train, y_train, theta, alpha, stop_threshold)\n",
    "y_pred =  hypothesis(X_test, theta)\n",
    "\n",
    "print('Intercept (theta 0): \\n', theta[0])\n",
    "print('Coefficients (theta 1): \\n', theta[1])\n",
    "print(\"MSE: \", mean_squared_error(y_test, y_pred))\n",
    "print(\"R2 Score\", r2_score(y_test, y_pred))\n",
    "\n",
    "# Plot outputs using test data\n",
    "plt.scatter(X_test, y_test,  color='black')\n",
    "plt.plot(X_test, y_pred, color='blue', linewidth=3)\n",
    "\n",
    "plt.show()\n"
   ]
  },
  {
   "cell_type": "markdown",
   "metadata": {},
   "source": [
    "#### Sci-Kit Learn LinearRegression model evaluation\n",
    "\n",
    "Now let's evaluate Sci-Kit Learn LinearRegression model and compare the results."
   ]
  },
  {
   "cell_type": "code",
   "execution_count": 156,
   "metadata": {},
   "outputs": [
    {
     "name": "stdout",
     "output_type": "stream",
     "text": [
      "Coef:  [959.29828463]\n",
      "Intercept:  153.63127419766417\n",
      "MSE:  3734.8709511128773\n",
      "R2 Score 0.26061868988610615\n"
     ]
    },
    {
     "data": {
      "image/png": "[encoded data removed]",
      "text/plain": [
       "<Figure size 432x288 with 1 Axes>"
      ]
     },
     "metadata": {
      "needs_background": "light"
     },
     "output_type": "display_data"
    }
   ],
   "source": [
    "# Sci-Kit Learn LinearRegression model evaluation\n",
    "\n",
    "regr = linear_model.LinearRegression()\n",
    "regr.fit(X_train, y_train)\n",
    "y_pred = regr.predict(X_test)\n",
    "\n",
    "print(\"Coef: \", regr.coef_)\n",
    "print(\"Intercept: \", regr.intercept_)\n",
    "print(\"MSE: \", mean_squared_error(y_test, y_pred))\n",
    "print(\"R2 Score\", r2_score(y_test, y_pred))\n",
    "# Plot outputs\n",
    "plt.scatter(X_test, y_test,  color='black')\n",
    "plt.plot(X_test, y_pred, color='blue', linewidth=3)\n",
    "\n",
    "plt.show()\n"
   ]
  }
 ],
 "metadata": {
  "interpreter": {
   "hash": "b0fc493fde361d7be51044bcee58ba069bf2d89e960dc3594d2539c90e57618d"
  },
  "kernelspec": {
   "display_name": "Python 3.8.9 64-bit ('ds-venv': venv)",
   "language": "python",
   "name": "python3"
  },
  "language_info": {
   "codemirror_mode": {
    "name": "ipython",
    "version": 3
   },
   "file_extension": ".py",
   "mimetype": "text/x-python",
   "name": "python",
   "nbconvert_exporter": "python",
   "pygments_lexer": "ipython3",
   "version": "3.8.9"
  },
  "orig_nbformat": 4
 },
 "nbformat": 4,
 "nbformat_minor": 2
}
